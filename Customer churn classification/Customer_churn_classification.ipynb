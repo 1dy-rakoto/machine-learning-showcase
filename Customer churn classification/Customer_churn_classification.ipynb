{
 "cells": [
  {
   "cell_type": "code",
   "execution_count": 67,
   "metadata": {},
   "outputs": [],
   "source": [
    "import tensorflow as tf\n",
    "from tensorflow import  keras\n",
    "import numpy as np\n",
    "import matplotlib.pyplot as plt\n",
    "import pandas as pd \n"
   ]
  },
  {
   "cell_type": "code",
   "execution_count": 68,
   "metadata": {},
   "outputs": [
    {
     "data": {
      "text/html": [
       "<div>\n",
       "<style scoped>\n",
       "    .dataframe tbody tr th:only-of-type {\n",
       "        vertical-align: middle;\n",
       "    }\n",
       "\n",
       "    .dataframe tbody tr th {\n",
       "        vertical-align: top;\n",
       "    }\n",
       "\n",
       "    .dataframe thead th {\n",
       "        text-align: right;\n",
       "    }\n",
       "</style>\n",
       "<table border=\"1\" class=\"dataframe\">\n",
       "  <thead>\n",
       "    <tr style=\"text-align: right;\">\n",
       "      <th></th>\n",
       "      <th>customerID</th>\n",
       "      <th>gender</th>\n",
       "      <th>SeniorCitizen</th>\n",
       "      <th>Partner</th>\n",
       "      <th>Dependents</th>\n",
       "      <th>tenure</th>\n",
       "      <th>PhoneService</th>\n",
       "      <th>MultipleLines</th>\n",
       "      <th>InternetService</th>\n",
       "      <th>OnlineSecurity</th>\n",
       "      <th>...</th>\n",
       "      <th>DeviceProtection</th>\n",
       "      <th>TechSupport</th>\n",
       "      <th>StreamingTV</th>\n",
       "      <th>StreamingMovies</th>\n",
       "      <th>Contract</th>\n",
       "      <th>PaperlessBilling</th>\n",
       "      <th>PaymentMethod</th>\n",
       "      <th>MonthlyCharges</th>\n",
       "      <th>TotalCharges</th>\n",
       "      <th>Churn</th>\n",
       "    </tr>\n",
       "  </thead>\n",
       "  <tbody>\n",
       "    <tr>\n",
       "      <th>4554</th>\n",
       "      <td>4329-YPDDQ</td>\n",
       "      <td>Male</td>\n",
       "      <td>0</td>\n",
       "      <td>No</td>\n",
       "      <td>No</td>\n",
       "      <td>20</td>\n",
       "      <td>Yes</td>\n",
       "      <td>No</td>\n",
       "      <td>Fiber optic</td>\n",
       "      <td>Yes</td>\n",
       "      <td>...</td>\n",
       "      <td>Yes</td>\n",
       "      <td>Yes</td>\n",
       "      <td>Yes</td>\n",
       "      <td>Yes</td>\n",
       "      <td>Month-to-month</td>\n",
       "      <td>Yes</td>\n",
       "      <td>Bank transfer (automatic)</td>\n",
       "      <td>108.20</td>\n",
       "      <td>2203.7</td>\n",
       "      <td>No</td>\n",
       "    </tr>\n",
       "    <tr>\n",
       "      <th>6082</th>\n",
       "      <td>4523-WXCEF</td>\n",
       "      <td>Female</td>\n",
       "      <td>0</td>\n",
       "      <td>Yes</td>\n",
       "      <td>No</td>\n",
       "      <td>59</td>\n",
       "      <td>Yes</td>\n",
       "      <td>Yes</td>\n",
       "      <td>Fiber optic</td>\n",
       "      <td>No</td>\n",
       "      <td>...</td>\n",
       "      <td>No</td>\n",
       "      <td>No</td>\n",
       "      <td>Yes</td>\n",
       "      <td>Yes</td>\n",
       "      <td>Month-to-month</td>\n",
       "      <td>No</td>\n",
       "      <td>Electronic check</td>\n",
       "      <td>101.10</td>\n",
       "      <td>6039.9</td>\n",
       "      <td>Yes</td>\n",
       "    </tr>\n",
       "    <tr>\n",
       "      <th>1557</th>\n",
       "      <td>4672-FOTSD</td>\n",
       "      <td>Male</td>\n",
       "      <td>0</td>\n",
       "      <td>No</td>\n",
       "      <td>No</td>\n",
       "      <td>12</td>\n",
       "      <td>Yes</td>\n",
       "      <td>Yes</td>\n",
       "      <td>DSL</td>\n",
       "      <td>Yes</td>\n",
       "      <td>...</td>\n",
       "      <td>No</td>\n",
       "      <td>Yes</td>\n",
       "      <td>No</td>\n",
       "      <td>No</td>\n",
       "      <td>Month-to-month</td>\n",
       "      <td>Yes</td>\n",
       "      <td>Electronic check</td>\n",
       "      <td>67.25</td>\n",
       "      <td>832.3</td>\n",
       "      <td>No</td>\n",
       "    </tr>\n",
       "    <tr>\n",
       "      <th>5295</th>\n",
       "      <td>2144-BFDSO</td>\n",
       "      <td>Female</td>\n",
       "      <td>1</td>\n",
       "      <td>Yes</td>\n",
       "      <td>No</td>\n",
       "      <td>50</td>\n",
       "      <td>Yes</td>\n",
       "      <td>Yes</td>\n",
       "      <td>Fiber optic</td>\n",
       "      <td>Yes</td>\n",
       "      <td>...</td>\n",
       "      <td>Yes</td>\n",
       "      <td>No</td>\n",
       "      <td>Yes</td>\n",
       "      <td>Yes</td>\n",
       "      <td>Month-to-month</td>\n",
       "      <td>No</td>\n",
       "      <td>Bank transfer (automatic)</td>\n",
       "      <td>108.75</td>\n",
       "      <td>5431.9</td>\n",
       "      <td>No</td>\n",
       "    </tr>\n",
       "    <tr>\n",
       "      <th>4976</th>\n",
       "      <td>8165-CBKXO</td>\n",
       "      <td>Male</td>\n",
       "      <td>0</td>\n",
       "      <td>Yes</td>\n",
       "      <td>Yes</td>\n",
       "      <td>66</td>\n",
       "      <td>No</td>\n",
       "      <td>No phone service</td>\n",
       "      <td>DSL</td>\n",
       "      <td>No</td>\n",
       "      <td>...</td>\n",
       "      <td>Yes</td>\n",
       "      <td>No</td>\n",
       "      <td>Yes</td>\n",
       "      <td>Yes</td>\n",
       "      <td>Two year</td>\n",
       "      <td>Yes</td>\n",
       "      <td>Credit card (automatic)</td>\n",
       "      <td>56.75</td>\n",
       "      <td>3708.4</td>\n",
       "      <td>No</td>\n",
       "    </tr>\n",
       "  </tbody>\n",
       "</table>\n",
       "<p>5 rows × 21 columns</p>\n",
       "</div>"
      ],
      "text/plain": [
       "      customerID  gender  SeniorCitizen Partner Dependents  tenure   \n",
       "4554  4329-YPDDQ    Male              0      No         No      20  \\\n",
       "6082  4523-WXCEF  Female              0     Yes         No      59   \n",
       "1557  4672-FOTSD    Male              0      No         No      12   \n",
       "5295  2144-BFDSO  Female              1     Yes         No      50   \n",
       "4976  8165-CBKXO    Male              0     Yes        Yes      66   \n",
       "\n",
       "     PhoneService     MultipleLines InternetService OnlineSecurity  ...   \n",
       "4554          Yes                No     Fiber optic            Yes  ...  \\\n",
       "6082          Yes               Yes     Fiber optic             No  ...   \n",
       "1557          Yes               Yes             DSL            Yes  ...   \n",
       "5295          Yes               Yes     Fiber optic            Yes  ...   \n",
       "4976           No  No phone service             DSL             No  ...   \n",
       "\n",
       "     DeviceProtection TechSupport StreamingTV StreamingMovies        Contract   \n",
       "4554              Yes         Yes         Yes             Yes  Month-to-month  \\\n",
       "6082               No          No         Yes             Yes  Month-to-month   \n",
       "1557               No         Yes          No              No  Month-to-month   \n",
       "5295              Yes          No         Yes             Yes  Month-to-month   \n",
       "4976              Yes          No         Yes             Yes        Two year   \n",
       "\n",
       "     PaperlessBilling              PaymentMethod MonthlyCharges  TotalCharges   \n",
       "4554              Yes  Bank transfer (automatic)         108.20        2203.7  \\\n",
       "6082               No           Electronic check         101.10        6039.9   \n",
       "1557              Yes           Electronic check          67.25         832.3   \n",
       "5295               No  Bank transfer (automatic)         108.75        5431.9   \n",
       "4976              Yes    Credit card (automatic)          56.75        3708.4   \n",
       "\n",
       "     Churn  \n",
       "4554    No  \n",
       "6082   Yes  \n",
       "1557    No  \n",
       "5295    No  \n",
       "4976    No  \n",
       "\n",
       "[5 rows x 21 columns]"
      ]
     },
     "execution_count": 68,
     "metadata": {},
     "output_type": "execute_result"
    }
   ],
   "source": [
    "df=pd.read_csv(\"Telco_customer_churn.csv\")\n",
    "df.sample(5)"
   ]
  },
  {
   "cell_type": "code",
   "execution_count": 69,
   "metadata": {},
   "outputs": [
    {
     "data": {
      "text/html": [
       "<div>\n",
       "<style scoped>\n",
       "    .dataframe tbody tr th:only-of-type {\n",
       "        vertical-align: middle;\n",
       "    }\n",
       "\n",
       "    .dataframe tbody tr th {\n",
       "        vertical-align: top;\n",
       "    }\n",
       "\n",
       "    .dataframe thead th {\n",
       "        text-align: right;\n",
       "    }\n",
       "</style>\n",
       "<table border=\"1\" class=\"dataframe\">\n",
       "  <thead>\n",
       "    <tr style=\"text-align: right;\">\n",
       "      <th></th>\n",
       "      <th>gender</th>\n",
       "      <th>SeniorCitizen</th>\n",
       "      <th>Partner</th>\n",
       "      <th>Dependents</th>\n",
       "      <th>tenure</th>\n",
       "      <th>PhoneService</th>\n",
       "      <th>MultipleLines</th>\n",
       "      <th>InternetService</th>\n",
       "      <th>OnlineSecurity</th>\n",
       "      <th>OnlineBackup</th>\n",
       "      <th>DeviceProtection</th>\n",
       "      <th>TechSupport</th>\n",
       "      <th>StreamingTV</th>\n",
       "      <th>StreamingMovies</th>\n",
       "      <th>Contract</th>\n",
       "      <th>PaperlessBilling</th>\n",
       "      <th>PaymentMethod</th>\n",
       "      <th>MonthlyCharges</th>\n",
       "      <th>TotalCharges</th>\n",
       "      <th>Churn</th>\n",
       "    </tr>\n",
       "  </thead>\n",
       "  <tbody>\n",
       "    <tr>\n",
       "      <th>0</th>\n",
       "      <td>Female</td>\n",
       "      <td>0</td>\n",
       "      <td>Yes</td>\n",
       "      <td>No</td>\n",
       "      <td>1</td>\n",
       "      <td>No</td>\n",
       "      <td>No phone service</td>\n",
       "      <td>DSL</td>\n",
       "      <td>No</td>\n",
       "      <td>Yes</td>\n",
       "      <td>No</td>\n",
       "      <td>No</td>\n",
       "      <td>No</td>\n",
       "      <td>No</td>\n",
       "      <td>Month-to-month</td>\n",
       "      <td>Yes</td>\n",
       "      <td>Electronic check</td>\n",
       "      <td>29.85</td>\n",
       "      <td>29.85</td>\n",
       "      <td>No</td>\n",
       "    </tr>\n",
       "    <tr>\n",
       "      <th>1</th>\n",
       "      <td>Male</td>\n",
       "      <td>0</td>\n",
       "      <td>No</td>\n",
       "      <td>No</td>\n",
       "      <td>34</td>\n",
       "      <td>Yes</td>\n",
       "      <td>No</td>\n",
       "      <td>DSL</td>\n",
       "      <td>Yes</td>\n",
       "      <td>No</td>\n",
       "      <td>Yes</td>\n",
       "      <td>No</td>\n",
       "      <td>No</td>\n",
       "      <td>No</td>\n",
       "      <td>One year</td>\n",
       "      <td>No</td>\n",
       "      <td>Mailed check</td>\n",
       "      <td>56.95</td>\n",
       "      <td>1889.5</td>\n",
       "      <td>No</td>\n",
       "    </tr>\n",
       "    <tr>\n",
       "      <th>2</th>\n",
       "      <td>Male</td>\n",
       "      <td>0</td>\n",
       "      <td>No</td>\n",
       "      <td>No</td>\n",
       "      <td>2</td>\n",
       "      <td>Yes</td>\n",
       "      <td>No</td>\n",
       "      <td>DSL</td>\n",
       "      <td>Yes</td>\n",
       "      <td>Yes</td>\n",
       "      <td>No</td>\n",
       "      <td>No</td>\n",
       "      <td>No</td>\n",
       "      <td>No</td>\n",
       "      <td>Month-to-month</td>\n",
       "      <td>Yes</td>\n",
       "      <td>Mailed check</td>\n",
       "      <td>53.85</td>\n",
       "      <td>108.15</td>\n",
       "      <td>Yes</td>\n",
       "    </tr>\n",
       "    <tr>\n",
       "      <th>3</th>\n",
       "      <td>Male</td>\n",
       "      <td>0</td>\n",
       "      <td>No</td>\n",
       "      <td>No</td>\n",
       "      <td>45</td>\n",
       "      <td>No</td>\n",
       "      <td>No phone service</td>\n",
       "      <td>DSL</td>\n",
       "      <td>Yes</td>\n",
       "      <td>No</td>\n",
       "      <td>Yes</td>\n",
       "      <td>Yes</td>\n",
       "      <td>No</td>\n",
       "      <td>No</td>\n",
       "      <td>One year</td>\n",
       "      <td>No</td>\n",
       "      <td>Bank transfer (automatic)</td>\n",
       "      <td>42.30</td>\n",
       "      <td>1840.75</td>\n",
       "      <td>No</td>\n",
       "    </tr>\n",
       "    <tr>\n",
       "      <th>4</th>\n",
       "      <td>Female</td>\n",
       "      <td>0</td>\n",
       "      <td>No</td>\n",
       "      <td>No</td>\n",
       "      <td>2</td>\n",
       "      <td>Yes</td>\n",
       "      <td>No</td>\n",
       "      <td>Fiber optic</td>\n",
       "      <td>No</td>\n",
       "      <td>No</td>\n",
       "      <td>No</td>\n",
       "      <td>No</td>\n",
       "      <td>No</td>\n",
       "      <td>No</td>\n",
       "      <td>Month-to-month</td>\n",
       "      <td>Yes</td>\n",
       "      <td>Electronic check</td>\n",
       "      <td>70.70</td>\n",
       "      <td>151.65</td>\n",
       "      <td>Yes</td>\n",
       "    </tr>\n",
       "  </tbody>\n",
       "</table>\n",
       "</div>"
      ],
      "text/plain": [
       "   gender  SeniorCitizen Partner Dependents  tenure PhoneService   \n",
       "0  Female              0     Yes         No       1           No  \\\n",
       "1    Male              0      No         No      34          Yes   \n",
       "2    Male              0      No         No       2          Yes   \n",
       "3    Male              0      No         No      45           No   \n",
       "4  Female              0      No         No       2          Yes   \n",
       "\n",
       "      MultipleLines InternetService OnlineSecurity OnlineBackup   \n",
       "0  No phone service             DSL             No          Yes  \\\n",
       "1                No             DSL            Yes           No   \n",
       "2                No             DSL            Yes          Yes   \n",
       "3  No phone service             DSL            Yes           No   \n",
       "4                No     Fiber optic             No           No   \n",
       "\n",
       "  DeviceProtection TechSupport StreamingTV StreamingMovies        Contract   \n",
       "0               No          No          No              No  Month-to-month  \\\n",
       "1              Yes          No          No              No        One year   \n",
       "2               No          No          No              No  Month-to-month   \n",
       "3              Yes         Yes          No              No        One year   \n",
       "4               No          No          No              No  Month-to-month   \n",
       "\n",
       "  PaperlessBilling              PaymentMethod  MonthlyCharges TotalCharges   \n",
       "0              Yes           Electronic check           29.85        29.85  \\\n",
       "1               No               Mailed check           56.95       1889.5   \n",
       "2              Yes               Mailed check           53.85       108.15   \n",
       "3               No  Bank transfer (automatic)           42.30      1840.75   \n",
       "4              Yes           Electronic check           70.70       151.65   \n",
       "\n",
       "  Churn  \n",
       "0    No  \n",
       "1    No  \n",
       "2   Yes  \n",
       "3    No  \n",
       "4   Yes  "
      ]
     },
     "execution_count": 69,
     "metadata": {},
     "output_type": "execute_result"
    }
   ],
   "source": [
    "df.drop(\"customerID\",axis=1,inplace=True)\n",
    "df.head()"
   ]
  },
  {
   "cell_type": "code",
   "execution_count": 70,
   "metadata": {},
   "outputs": [
    {
     "data": {
      "text/plain": [
       "gender               object\n",
       "SeniorCitizen         int64\n",
       "Partner              object\n",
       "Dependents           object\n",
       "tenure                int64\n",
       "PhoneService         object\n",
       "MultipleLines        object\n",
       "InternetService      object\n",
       "OnlineSecurity       object\n",
       "OnlineBackup         object\n",
       "DeviceProtection     object\n",
       "TechSupport          object\n",
       "StreamingTV          object\n",
       "StreamingMovies      object\n",
       "Contract             object\n",
       "PaperlessBilling     object\n",
       "PaymentMethod        object\n",
       "MonthlyCharges      float64\n",
       "TotalCharges         object\n",
       "Churn                object\n",
       "dtype: object"
      ]
     },
     "execution_count": 70,
     "metadata": {},
     "output_type": "execute_result"
    }
   ],
   "source": [
    "df.dtypes"
   ]
  },
  {
   "cell_type": "code",
   "execution_count": 71,
   "metadata": {},
   "outputs": [
    {
     "data": {
      "text/plain": [
       "array(['29.85', '1889.5', '108.15', ..., '346.45', '306.6', '6844.5'],\n",
       "      dtype=object)"
      ]
     },
     "execution_count": 71,
     "metadata": {},
     "output_type": "execute_result"
    }
   ],
   "source": [
    "df.TotalCharges.unique()"
   ]
  },
  {
   "cell_type": "code",
   "execution_count": 72,
   "metadata": {},
   "outputs": [
    {
     "data": {
      "text/plain": [
       "array([ 29.85,  56.95,  53.85, ...,  29.6 ,  74.4 , 105.65])"
      ]
     },
     "execution_count": 72,
     "metadata": {},
     "output_type": "execute_result"
    }
   ],
   "source": [
    "df.MonthlyCharges.values"
   ]
  },
  {
   "cell_type": "code",
   "execution_count": 73,
   "metadata": {},
   "outputs": [
    {
     "data": {
      "text/plain": [
       "0       False\n",
       "1       False\n",
       "2       False\n",
       "3       False\n",
       "4       False\n",
       "        ...  \n",
       "7038    False\n",
       "7039    False\n",
       "7040    False\n",
       "7041    False\n",
       "7042    False\n",
       "Name: TotalCharges, Length: 7043, dtype: bool"
      ]
     },
     "execution_count": 73,
     "metadata": {},
     "output_type": "execute_result"
    }
   ],
   "source": [
    "pd.to_numeric(df.TotalCharges,errors=\"coerce\").isnull()"
   ]
  },
  {
   "cell_type": "code",
   "execution_count": 74,
   "metadata": {},
   "outputs": [
    {
     "data": {
      "text/plain": [
       "(11, 20)"
      ]
     },
     "execution_count": 74,
     "metadata": {},
     "output_type": "execute_result"
    }
   ],
   "source": [
    "df[pd.to_numeric(df.TotalCharges,errors=\"coerce\").isnull()].shape"
   ]
  },
  {
   "cell_type": "code",
   "execution_count": 75,
   "metadata": {},
   "outputs": [
    {
     "data": {
      "text/plain": [
       "(7032, 20)"
      ]
     },
     "execution_count": 75,
     "metadata": {},
     "output_type": "execute_result"
    }
   ],
   "source": [
    "df0=df[df.TotalCharges!=\" \"]\n",
    "df0.shape"
   ]
  },
  {
   "cell_type": "code",
   "execution_count": 76,
   "metadata": {},
   "outputs": [
    {
     "data": {
      "text/plain": [
       "gender               object\n",
       "SeniorCitizen         int64\n",
       "Partner              object\n",
       "Dependents           object\n",
       "tenure                int64\n",
       "PhoneService         object\n",
       "MultipleLines        object\n",
       "InternetService      object\n",
       "OnlineSecurity       object\n",
       "OnlineBackup         object\n",
       "DeviceProtection     object\n",
       "TechSupport          object\n",
       "StreamingTV          object\n",
       "StreamingMovies      object\n",
       "Contract             object\n",
       "PaperlessBilling     object\n",
       "PaymentMethod        object\n",
       "MonthlyCharges      float64\n",
       "TotalCharges         object\n",
       "Churn                object\n",
       "dtype: object"
      ]
     },
     "execution_count": 76,
     "metadata": {},
     "output_type": "execute_result"
    }
   ],
   "source": [
    "df0.dtypes"
   ]
  },
  {
   "cell_type": "code",
   "execution_count": 77,
   "metadata": {},
   "outputs": [
    {
     "name": "stderr",
     "output_type": "stream",
     "text": [
      "C:\\Users\\rakoto\\AppData\\Local\\Temp\\ipykernel_10208\\3357684236.py:1: SettingWithCopyWarning: \n",
      "A value is trying to be set on a copy of a slice from a DataFrame.\n",
      "Try using .loc[row_indexer,col_indexer] = value instead\n",
      "\n",
      "See the caveats in the documentation: https://pandas.pydata.org/pandas-docs/stable/user_guide/indexing.html#returning-a-view-versus-a-copy\n",
      "  df0.TotalCharges=pd.to_numeric(df0.TotalCharges)\n"
     ]
    }
   ],
   "source": [
    "df0.TotalCharges=pd.to_numeric(df0.TotalCharges)\n"
   ]
  },
  {
   "cell_type": "code",
   "execution_count": 78,
   "metadata": {},
   "outputs": [
    {
     "data": {
      "text/plain": [
       "dtype('float64')"
      ]
     },
     "execution_count": 78,
     "metadata": {},
     "output_type": "execute_result"
    }
   ],
   "source": [
    "df0.TotalCharges.dtypes"
   ]
  },
  {
   "cell_type": "code",
   "execution_count": 79,
   "metadata": {},
   "outputs": [],
   "source": [
    "tenure_churn_no=df0[df0.Churn==\"No\"].tenure\n",
    "tenure_churn_yes=df0[df0.Churn==\"Yes\"].tenure"
   ]
  },
  {
   "cell_type": "code",
   "execution_count": 80,
   "metadata": {},
   "outputs": [
    {
     "data": {
      "text/plain": [
       "<matplotlib.legend.Legend at 0x1f2a18fae50>"
      ]
     },
     "execution_count": 80,
     "metadata": {},
     "output_type": "execute_result"
    },
    {
     "data": {
      "image/png": "[encoded data removed]",
      "text/plain": [
       "<Figure size 640x480 with 1 Axes>"
      ]
     },
     "metadata": {},
     "output_type": "display_data"
    }
   ],
   "source": [
    "plt.hist([tenure_churn_no,tenure_churn_yes],color=[\"red\",\"green\"],label=[\"churn=Yes\",\"churn=No\"])\n",
    "plt.legend()"
   ]
  },
  {
   "cell_type": "code",
   "execution_count": 81,
   "metadata": {},
   "outputs": [
    {
     "data": {
      "text/plain": [
       "<matplotlib.legend.Legend at 0x1f29be72e50>"
      ]
     },
     "execution_count": 81,
     "metadata": {},
     "output_type": "execute_result"
    },
    {
     "data": {
      "image/png": "[encoded data removed]",
      "text/plain": [
       "<Figure size 640x480 with 1 Axes>"
      ]
     },
     "metadata": {},
     "output_type": "display_data"
    }
   ],
   "source": [
    "mc_churn_no=df0[df0.Churn==\"No\"].MonthlyCharges\n",
    "mc_churn_yes=df0[df0.Churn==\"Yes\"].MonthlyCharges\n",
    "plt.hist([mc_churn_no,mc_churn_yes],rwidth=0.9,color=[\"red\",\"green\"],label=[\"churn=Yes\",\"churn=No\"])\n",
    "plt.legend()"
   ]
  },
  {
   "cell_type": "code",
   "execution_count": 82,
   "metadata": {},
   "outputs": [],
   "source": [
    "def print_unique_col_value(df0):\n",
    "    for col in df0:\n",
    "        if df0[col].dtypes==\"object\":\n",
    "            print(f\"{col}---------------{df0[col].unique()}\")"
   ]
  },
  {
   "cell_type": "code",
   "execution_count": 83,
   "metadata": {},
   "outputs": [
    {
     "name": "stdout",
     "output_type": "stream",
     "text": [
      "gender---------------['Female' 'Male']\n",
      "Partner---------------['Yes' 'No']\n",
      "Dependents---------------['No' 'Yes']\n",
      "PhoneService---------------['No' 'Yes']\n",
      "MultipleLines---------------['No phone service' 'No' 'Yes']\n",
      "InternetService---------------['DSL' 'Fiber optic' 'No']\n",
      "OnlineSecurity---------------['No' 'Yes' 'No internet service']\n",
      "OnlineBackup---------------['Yes' 'No' 'No internet service']\n",
      "DeviceProtection---------------['No' 'Yes' 'No internet service']\n",
      "TechSupport---------------['No' 'Yes' 'No internet service']\n",
      "StreamingTV---------------['No' 'Yes' 'No internet service']\n",
      "StreamingMovies---------------['No' 'Yes' 'No internet service']\n",
      "Contract---------------['Month-to-month' 'One year' 'Two year']\n",
      "PaperlessBilling---------------['Yes' 'No']\n",
      "PaymentMethod---------------['Electronic check' 'Mailed check' 'Bank transfer (automatic)'\n",
      " 'Credit card (automatic)']\n",
      "Churn---------------['No' 'Yes']\n"
     ]
    }
   ],
   "source": [
    "print_unique_col_value(df0)"
   ]
  },
  {
   "cell_type": "code",
   "execution_count": 84,
   "metadata": {},
   "outputs": [
    {
     "name": "stderr",
     "output_type": "stream",
     "text": [
      "C:\\Users\\rakoto\\AppData\\Local\\Temp\\ipykernel_10208\\157923970.py:1: SettingWithCopyWarning: \n",
      "A value is trying to be set on a copy of a slice from a DataFrame\n",
      "\n",
      "See the caveats in the documentation: https://pandas.pydata.org/pandas-docs/stable/user_guide/indexing.html#returning-a-view-versus-a-copy\n",
      "  df0.replace('No internet service','No',inplace=True)\n",
      "C:\\Users\\rakoto\\AppData\\Local\\Temp\\ipykernel_10208\\157923970.py:2: SettingWithCopyWarning: \n",
      "A value is trying to be set on a copy of a slice from a DataFrame\n",
      "\n",
      "See the caveats in the documentation: https://pandas.pydata.org/pandas-docs/stable/user_guide/indexing.html#returning-a-view-versus-a-copy\n",
      "  df0.replace('No phone service','No',inplace=True)\n"
     ]
    }
   ],
   "source": [
    "df0.replace('No internet service','No',inplace=True)\n",
    "df0.replace('No phone service','No',inplace=True)"
   ]
  },
  {
   "cell_type": "code",
   "execution_count": 85,
   "metadata": {},
   "outputs": [
    {
     "name": "stdout",
     "output_type": "stream",
     "text": [
      "gender---------------['Female' 'Male']\n",
      "Partner---------------['Yes' 'No']\n",
      "Dependents---------------['No' 'Yes']\n",
      "PhoneService---------------['No' 'Yes']\n",
      "MultipleLines---------------['No' 'Yes']\n",
      "InternetService---------------['DSL' 'Fiber optic' 'No']\n",
      "OnlineSecurity---------------['No' 'Yes']\n",
      "OnlineBackup---------------['Yes' 'No']\n",
      "DeviceProtection---------------['No' 'Yes']\n",
      "TechSupport---------------['No' 'Yes']\n",
      "StreamingTV---------------['No' 'Yes']\n",
      "StreamingMovies---------------['No' 'Yes']\n",
      "Contract---------------['Month-to-month' 'One year' 'Two year']\n",
      "PaperlessBilling---------------['Yes' 'No']\n",
      "PaymentMethod---------------['Electronic check' 'Mailed check' 'Bank transfer (automatic)'\n",
      " 'Credit card (automatic)']\n",
      "Churn---------------['No' 'Yes']\n"
     ]
    }
   ],
   "source": [
    "print_unique_col_value(df0)"
   ]
  },
  {
   "cell_type": "code",
   "execution_count": 86,
   "metadata": {},
   "outputs": [
    {
     "name": "stderr",
     "output_type": "stream",
     "text": [
      "C:\\Users\\rakoto\\AppData\\Local\\Temp\\ipykernel_10208\\3998605824.py:4: SettingWithCopyWarning: \n",
      "A value is trying to be set on a copy of a slice from a DataFrame\n",
      "\n",
      "See the caveats in the documentation: https://pandas.pydata.org/pandas-docs/stable/user_guide/indexing.html#returning-a-view-versus-a-copy\n",
      "  df0[col].replace({'Yes':1,'No':0},inplace=True)\n"
     ]
    }
   ],
   "source": [
    "yes_no_columns=[\"Partner\",\"Dependents\",\"PhoneService\",\"MultipleLines\",\"OnlineSecurity\",\"OnlineBackup\",\"DeviceProtection\",\"TechSupport\",\"StreamingTV\",\"StreamingMovies\",\"PaperlessBilling\",\"Churn\"]\n",
    "\n",
    "for col in yes_no_columns:\n",
    "    df0[col].replace({'Yes':1,'No':0},inplace=True)"
   ]
  },
  {
   "cell_type": "code",
   "execution_count": 87,
   "metadata": {},
   "outputs": [
    {
     "name": "stdout",
     "output_type": "stream",
     "text": [
      "gender---------------['Female' 'Male']\n",
      "SeniorCitizen---------------[0 1]\n",
      "Partner---------------[1 0]\n",
      "Dependents---------------[0 1]\n",
      "tenure---------------[ 1 34  2 45  8 22 10 28 62 13 16 58 49 25 69 52 71 21 12 30 47 72 17 27\n",
      "  5 46 11 70 63 43 15 60 18 66  9  3 31 50 64 56  7 42 35 48 29 65 38 68\n",
      " 32 55 37 36 41  6  4 33 67 23 57 61 14 20 53 40 59 24 44 19 54 51 26 39]\n",
      "PhoneService---------------[0 1]\n",
      "MultipleLines---------------[0 1]\n",
      "InternetService---------------['DSL' 'Fiber optic' 'No']\n",
      "OnlineSecurity---------------[0 1]\n",
      "OnlineBackup---------------[1 0]\n",
      "DeviceProtection---------------[0 1]\n",
      "TechSupport---------------[0 1]\n",
      "StreamingTV---------------[0 1]\n",
      "StreamingMovies---------------[0 1]\n",
      "Contract---------------['Month-to-month' 'One year' 'Two year']\n",
      "PaperlessBilling---------------[1 0]\n",
      "PaymentMethod---------------['Electronic check' 'Mailed check' 'Bank transfer (automatic)'\n",
      " 'Credit card (automatic)']\n",
      "MonthlyCharges---------------[29.85 56.95 53.85 ... 63.1  44.2  78.7 ]\n",
      "TotalCharges---------------[  29.85 1889.5   108.15 ...  346.45  306.6  6844.5 ]\n",
      "Churn---------------[0 1]\n"
     ]
    }
   ],
   "source": [
    "for col in df0:\n",
    "    print(f\"{col}---------------{df0[col].unique()}\")"
   ]
  },
  {
   "cell_type": "code",
   "execution_count": 88,
   "metadata": {},
   "outputs": [
    {
     "name": "stderr",
     "output_type": "stream",
     "text": [
      "C:\\Users\\rakoto\\AppData\\Local\\Temp\\ipykernel_10208\\4216551982.py:1: SettingWithCopyWarning: \n",
      "A value is trying to be set on a copy of a slice from a DataFrame\n",
      "\n",
      "See the caveats in the documentation: https://pandas.pydata.org/pandas-docs/stable/user_guide/indexing.html#returning-a-view-versus-a-copy\n",
      "  df0[\"gender\"].replace({'Female':1,'Male':0},inplace=True)\n"
     ]
    }
   ],
   "source": [
    "df0[\"gender\"].replace({'Female':1,'Male':0},inplace=True)"
   ]
  },
  {
   "cell_type": "code",
   "execution_count": 89,
   "metadata": {},
   "outputs": [
    {
     "data": {
      "text/plain": [
       "array([1, 0], dtype=int64)"
      ]
     },
     "execution_count": 89,
     "metadata": {},
     "output_type": "execute_result"
    }
   ],
   "source": [
    "df0[\"gender\"].unique()"
   ]
  },
  {
   "cell_type": "code",
   "execution_count": 90,
   "metadata": {},
   "outputs": [
    {
     "data": {
      "text/plain": [
       "Index(['gender', 'SeniorCitizen', 'Partner', 'Dependents', 'tenure',\n",
       "       'PhoneService', 'MultipleLines', 'OnlineSecurity', 'OnlineBackup',\n",
       "       'DeviceProtection', 'TechSupport', 'StreamingTV', 'StreamingMovies',\n",
       "       'PaperlessBilling', 'MonthlyCharges', 'TotalCharges', 'Churn',\n",
       "       'InternetService_DSL', 'InternetService_Fiber optic',\n",
       "       'InternetService_No', 'Contract_Month-to-month', 'Contract_One year',\n",
       "       'Contract_Two year', 'PaymentMethod_Bank transfer (automatic)',\n",
       "       'PaymentMethod_Credit card (automatic)',\n",
       "       'PaymentMethod_Electronic check', 'PaymentMethod_Mailed check'],\n",
       "      dtype='object')"
      ]
     },
     "execution_count": 90,
     "metadata": {},
     "output_type": "execute_result"
    }
   ],
   "source": [
    "df0=pd.get_dummies(data=df0,columns=[\"InternetService\",\"Contract\",\"PaymentMethod\"])\n",
    "df0.columns"
   ]
  },
  {
   "cell_type": "code",
   "execution_count": 91,
   "metadata": {},
   "outputs": [
    {
     "data": {
      "text/html": [
       "<div>\n",
       "<style scoped>\n",
       "    .dataframe tbody tr th:only-of-type {\n",
       "        vertical-align: middle;\n",
       "    }\n",
       "\n",
       "    .dataframe tbody tr th {\n",
       "        vertical-align: top;\n",
       "    }\n",
       "\n",
       "    .dataframe thead th {\n",
       "        text-align: right;\n",
       "    }\n",
       "</style>\n",
       "<table border=\"1\" class=\"dataframe\">\n",
       "  <thead>\n",
       "    <tr style=\"text-align: right;\">\n",
       "      <th></th>\n",
       "      <th>gender</th>\n",
       "      <th>SeniorCitizen</th>\n",
       "      <th>Partner</th>\n",
       "      <th>Dependents</th>\n",
       "      <th>tenure</th>\n",
       "      <th>PhoneService</th>\n",
       "      <th>MultipleLines</th>\n",
       "      <th>OnlineSecurity</th>\n",
       "      <th>OnlineBackup</th>\n",
       "      <th>DeviceProtection</th>\n",
       "      <th>...</th>\n",
       "      <th>InternetService_DSL</th>\n",
       "      <th>InternetService_Fiber optic</th>\n",
       "      <th>InternetService_No</th>\n",
       "      <th>Contract_Month-to-month</th>\n",
       "      <th>Contract_One year</th>\n",
       "      <th>Contract_Two year</th>\n",
       "      <th>PaymentMethod_Bank transfer (automatic)</th>\n",
       "      <th>PaymentMethod_Credit card (automatic)</th>\n",
       "      <th>PaymentMethod_Electronic check</th>\n",
       "      <th>PaymentMethod_Mailed check</th>\n",
       "    </tr>\n",
       "  </thead>\n",
       "  <tbody>\n",
       "    <tr>\n",
       "      <th>2209</th>\n",
       "      <td>0</td>\n",
       "      <td>0</td>\n",
       "      <td>1</td>\n",
       "      <td>0</td>\n",
       "      <td>0.098592</td>\n",
       "      <td>1</td>\n",
       "      <td>0</td>\n",
       "      <td>0</td>\n",
       "      <td>0</td>\n",
       "      <td>0</td>\n",
       "      <td>...</td>\n",
       "      <td>0</td>\n",
       "      <td>0</td>\n",
       "      <td>0</td>\n",
       "      <td>0</td>\n",
       "      <td>0</td>\n",
       "      <td>0</td>\n",
       "      <td>0</td>\n",
       "      <td>0</td>\n",
       "      <td>0</td>\n",
       "      <td>0</td>\n",
       "    </tr>\n",
       "    <tr>\n",
       "      <th>1458</th>\n",
       "      <td>0</td>\n",
       "      <td>0</td>\n",
       "      <td>0</td>\n",
       "      <td>0</td>\n",
       "      <td>0.000000</td>\n",
       "      <td>1</td>\n",
       "      <td>0</td>\n",
       "      <td>0</td>\n",
       "      <td>0</td>\n",
       "      <td>0</td>\n",
       "      <td>...</td>\n",
       "      <td>0</td>\n",
       "      <td>0</td>\n",
       "      <td>0</td>\n",
       "      <td>0</td>\n",
       "      <td>0</td>\n",
       "      <td>0</td>\n",
       "      <td>0</td>\n",
       "      <td>0</td>\n",
       "      <td>0</td>\n",
       "      <td>0</td>\n",
       "    </tr>\n",
       "    <tr>\n",
       "      <th>770</th>\n",
       "      <td>0</td>\n",
       "      <td>0</td>\n",
       "      <td>0</td>\n",
       "      <td>0</td>\n",
       "      <td>0.140845</td>\n",
       "      <td>1</td>\n",
       "      <td>0</td>\n",
       "      <td>0</td>\n",
       "      <td>0</td>\n",
       "      <td>0</td>\n",
       "      <td>...</td>\n",
       "      <td>0</td>\n",
       "      <td>0</td>\n",
       "      <td>0</td>\n",
       "      <td>0</td>\n",
       "      <td>0</td>\n",
       "      <td>0</td>\n",
       "      <td>0</td>\n",
       "      <td>0</td>\n",
       "      <td>0</td>\n",
       "      <td>0</td>\n",
       "    </tr>\n",
       "    <tr>\n",
       "      <th>1527</th>\n",
       "      <td>0</td>\n",
       "      <td>0</td>\n",
       "      <td>1</td>\n",
       "      <td>1</td>\n",
       "      <td>1.000000</td>\n",
       "      <td>1</td>\n",
       "      <td>0</td>\n",
       "      <td>0</td>\n",
       "      <td>0</td>\n",
       "      <td>0</td>\n",
       "      <td>...</td>\n",
       "      <td>0</td>\n",
       "      <td>0</td>\n",
       "      <td>0</td>\n",
       "      <td>0</td>\n",
       "      <td>0</td>\n",
       "      <td>0</td>\n",
       "      <td>0</td>\n",
       "      <td>0</td>\n",
       "      <td>0</td>\n",
       "      <td>0</td>\n",
       "    </tr>\n",
       "    <tr>\n",
       "      <th>2914</th>\n",
       "      <td>0</td>\n",
       "      <td>0</td>\n",
       "      <td>0</td>\n",
       "      <td>0</td>\n",
       "      <td>0.436620</td>\n",
       "      <td>1</td>\n",
       "      <td>0</td>\n",
       "      <td>0</td>\n",
       "      <td>0</td>\n",
       "      <td>0</td>\n",
       "      <td>...</td>\n",
       "      <td>0</td>\n",
       "      <td>0</td>\n",
       "      <td>0</td>\n",
       "      <td>0</td>\n",
       "      <td>0</td>\n",
       "      <td>0</td>\n",
       "      <td>0</td>\n",
       "      <td>0</td>\n",
       "      <td>0</td>\n",
       "      <td>0</td>\n",
       "    </tr>\n",
       "  </tbody>\n",
       "</table>\n",
       "<p>5 rows × 27 columns</p>\n",
       "</div>"
      ],
      "text/plain": [
       "      gender  SeniorCitizen  Partner  Dependents    tenure  PhoneService   \n",
       "2209       0              0        1           0  0.098592             1  \\\n",
       "1458       0              0        0           0  0.000000             1   \n",
       "770        0              0        0           0  0.140845             1   \n",
       "1527       0              0        1           1  1.000000             1   \n",
       "2914       0              0        0           0  0.436620             1   \n",
       "\n",
       "      MultipleLines  OnlineSecurity  OnlineBackup  DeviceProtection  ...   \n",
       "2209              0               0             0                 0  ...  \\\n",
       "1458              0               0             0                 0  ...   \n",
       "770               0               0             0                 0  ...   \n",
       "1527              0               0             0                 0  ...   \n",
       "2914              0               0             0                 0  ...   \n",
       "\n",
       "      InternetService_DSL  InternetService_Fiber optic  InternetService_No   \n",
       "2209                    0                            0                   0  \\\n",
       "1458                    0                            0                   0   \n",
       "770                     0                            0                   0   \n",
       "1527                    0                            0                   0   \n",
       "2914                    0                            0                   0   \n",
       "\n",
       "      Contract_Month-to-month  Contract_One year  Contract_Two year   \n",
       "2209                        0                  0                  0  \\\n",
       "1458                        0                  0                  0   \n",
       "770                         0                  0                  0   \n",
       "1527                        0                  0                  0   \n",
       "2914                        0                  0                  0   \n",
       "\n",
       "      PaymentMethod_Bank transfer (automatic)   \n",
       "2209                                        0  \\\n",
       "1458                                        0   \n",
       "770                                         0   \n",
       "1527                                        0   \n",
       "2914                                        0   \n",
       "\n",
       "      PaymentMethod_Credit card (automatic)  PaymentMethod_Electronic check   \n",
       "2209                                      0                               0  \\\n",
       "1458                                      0                               0   \n",
       "770                                       0                               0   \n",
       "1527                                      0                               0   \n",
       "2914                                      0                               0   \n",
       "\n",
       "      PaymentMethod_Mailed check  \n",
       "2209                           0  \n",
       "1458                           0  \n",
       "770                            0  \n",
       "1527                           0  \n",
       "2914                           0  \n",
       "\n",
       "[5 rows x 27 columns]"
      ]
     },
     "execution_count": 91,
     "metadata": {},
     "output_type": "execute_result"
    }
   ],
   "source": [
    "df0.sample(5)"
   ]
  },
  {
   "cell_type": "code",
   "execution_count": 92,
   "metadata": {},
   "outputs": [
    {
     "data": {
      "text/plain": [
       "gender                                       int64\n",
       "SeniorCitizen                                int64\n",
       "Partner                                      int64\n",
       "Dependents                                   int64\n",
       "tenure                                     float64\n",
       "PhoneService                                 int64\n",
       "MultipleLines                                int64\n",
       "OnlineSecurity                               int64\n",
       "OnlineBackup                                 int64\n",
       "DeviceProtection                             int64\n",
       "TechSupport                                  int64\n",
       "StreamingTV                                  int64\n",
       "StreamingMovies                              int64\n",
       "PaperlessBilling                             int64\n",
       "MonthlyCharges                             float64\n",
       "TotalCharges                               float64\n",
       "Churn                                        int64\n",
       "InternetService_DSL                          int64\n",
       "InternetService_Fiber optic                  int64\n",
       "InternetService_No                           int64\n",
       "Contract_Month-to-month                      int64\n",
       "Contract_One year                            int64\n",
       "Contract_Two year                            int64\n",
       "PaymentMethod_Bank transfer (automatic)      int64\n",
       "PaymentMethod_Credit card (automatic)        int64\n",
       "PaymentMethod_Electronic check               int64\n",
       "PaymentMethod_Mailed check                   int64\n",
       "dtype: object"
      ]
     },
     "execution_count": 92,
     "metadata": {},
     "output_type": "execute_result"
    }
   ],
   "source": [
    "df0.dtypes"
   ]
  },
  {
   "cell_type": "code",
   "execution_count": 99,
   "metadata": {},
   "outputs": [],
   "source": [
    "bool_columns=[\"InternetService_DSL\",\"InternetService_Fiber optic\",\"InternetService_No\",\"Contract_Month-to-month\",\"Contract_One year\",\"Contract_Two year\",\"PaymentMethod_Bank transfer (automatic)\",\"PaymentMethod_Credit card (automatic)\",\"PaymentMethod_Electronic check\",\"PaymentMethod_Mailed check\"]\n",
    "for col in bool_columns:\n",
    "    df0[col].replace({False:0,True:0},inplace=True)"
   ]
  },
  {
   "cell_type": "code",
   "execution_count": 100,
   "metadata": {},
   "outputs": [
    {
     "data": {
      "text/plain": [
       "gender                                       int64\n",
       "SeniorCitizen                                int64\n",
       "Partner                                      int64\n",
       "Dependents                                   int64\n",
       "tenure                                       int64\n",
       "PhoneService                                 int64\n",
       "MultipleLines                                int64\n",
       "OnlineSecurity                               int64\n",
       "OnlineBackup                                 int64\n",
       "DeviceProtection                             int64\n",
       "TechSupport                                  int64\n",
       "StreamingTV                                  int64\n",
       "StreamingMovies                              int64\n",
       "PaperlessBilling                             int64\n",
       "MonthlyCharges                             float64\n",
       "TotalCharges                               float64\n",
       "Churn                                        int64\n",
       "InternetService_DSL                          int64\n",
       "InternetService_Fiber optic                  int64\n",
       "InternetService_No                           int64\n",
       "Contract_Month-to-month                      int64\n",
       "Contract_One year                            int64\n",
       "Contract_Two year                            int64\n",
       "PaymentMethod_Bank transfer (automatic)      int64\n",
       "PaymentMethod_Credit card (automatic)        int64\n",
       "PaymentMethod_Electronic check               int64\n",
       "PaymentMethod_Mailed check                   int64\n",
       "dtype: object"
      ]
     },
     "execution_count": 100,
     "metadata": {},
     "output_type": "execute_result"
    }
   ],
   "source": [
    "df0.dtypes"
   ]
  },
  {
   "cell_type": "code",
   "execution_count": 101,
   "metadata": {},
   "outputs": [],
   "source": [
    "from sklearn.preprocessing import MinMaxScaler"
   ]
  },
  {
   "cell_type": "code",
   "execution_count": 102,
   "metadata": {},
   "outputs": [],
   "source": [
    "cols_to_scale=[\"tenure\",\"MonthlyCharges\",\"TotalCharges\"]\n",
    "scaler=MinMaxScaler()\n",
    "\n",
    "df1[cols_to_scale]=scaler.fit_transform(df1[cols_to_scale])"
   ]
  },
  {
   "cell_type": "code",
   "execution_count": 105,
   "metadata": {},
   "outputs": [],
   "source": [
    "X=df0.drop(\"Churn\",axis=1)\n",
    "Y=df0[\"Churn\"]"
   ]
  },
  {
   "cell_type": "code",
   "execution_count": 106,
   "metadata": {},
   "outputs": [],
   "source": [
    "from sklearn.model_selection import  train_test_split"
   ]
  },
  {
   "cell_type": "code",
   "execution_count": 108,
   "metadata": {},
   "outputs": [],
   "source": [
    "X_train,X_test,Y_train,Y_test=train_test_split(X,Y,test_size=0.2,random_state=5)"
   ]
  },
  {
   "cell_type": "code",
   "execution_count": 109,
   "metadata": {},
   "outputs": [
    {
     "data": {
      "text/plain": [
       "(5625, 26)"
      ]
     },
     "execution_count": 109,
     "metadata": {},
     "output_type": "execute_result"
    }
   ],
   "source": [
    "X_train.shape"
   ]
  },
  {
   "cell_type": "code",
   "execution_count": 110,
   "metadata": {},
   "outputs": [
    {
     "data": {
      "text/plain": [
       "(5625, 26)"
      ]
     },
     "execution_count": 110,
     "metadata": {},
     "output_type": "execute_result"
    }
   ],
   "source": [
    "X_train.shape"
   ]
  },
  {
   "cell_type": "code",
   "execution_count": 114,
   "metadata": {},
   "outputs": [
    {
     "name": "stdout",
     "output_type": "stream",
     "text": [
      "Epoch 1/100\n",
      "176/176 [==============================] - 1s 3ms/step - loss: 16.7665 - accuracy: 0.6112\n",
      "Epoch 2/100\n",
      "176/176 [==============================] - 0s 3ms/step - loss: 0.7165 - accuracy: 0.7196\n",
      "Epoch 3/100\n",
      "176/176 [==============================] - 0s 3ms/step - loss: 0.6069 - accuracy: 0.7484\n",
      "Epoch 4/100\n",
      "176/176 [==============================] - 0s 3ms/step - loss: 0.6099 - accuracy: 0.7582\n",
      "Epoch 5/100\n",
      "176/176 [==============================] - 0s 3ms/step - loss: 0.5825 - accuracy: 0.7708\n",
      "Epoch 6/100\n",
      "176/176 [==============================] - 0s 3ms/step - loss: 0.6230 - accuracy: 0.7675\n",
      "Epoch 7/100\n",
      "176/176 [==============================] - 0s 3ms/step - loss: 0.5296 - accuracy: 0.7771\n",
      "Epoch 8/100\n",
      "176/176 [==============================] - 0s 3ms/step - loss: 0.5730 - accuracy: 0.7696\n",
      "Epoch 9/100\n",
      "176/176 [==============================] - 0s 3ms/step - loss: 0.6193 - accuracy: 0.7653\n",
      "Epoch 10/100\n",
      "176/176 [==============================] - 0s 3ms/step - loss: 0.5645 - accuracy: 0.7790\n",
      "Epoch 11/100\n",
      "176/176 [==============================] - 1s 3ms/step - loss: 0.5981 - accuracy: 0.7755\n",
      "Epoch 12/100\n",
      "176/176 [==============================] - 0s 3ms/step - loss: 0.5877 - accuracy: 0.7819\n",
      "Epoch 13/100\n",
      "176/176 [==============================] - 0s 3ms/step - loss: 0.5907 - accuracy: 0.7776\n",
      "Epoch 14/100\n",
      "176/176 [==============================] - 0s 3ms/step - loss: 0.5551 - accuracy: 0.7804\n",
      "Epoch 15/100\n",
      "176/176 [==============================] - 0s 3ms/step - loss: 0.6300 - accuracy: 0.7755\n",
      "Epoch 16/100\n",
      "176/176 [==============================] - 0s 3ms/step - loss: 0.5572 - accuracy: 0.7788\n",
      "Epoch 17/100\n",
      "176/176 [==============================] - 1s 3ms/step - loss: 0.5919 - accuracy: 0.7787\n",
      "Epoch 18/100\n",
      "176/176 [==============================] - 1s 3ms/step - loss: 0.5434 - accuracy: 0.7797\n",
      "Epoch 19/100\n",
      "176/176 [==============================] - 1s 3ms/step - loss: 0.6715 - accuracy: 0.7728\n",
      "Epoch 20/100\n",
      "176/176 [==============================] - 1s 3ms/step - loss: 0.5409 - accuracy: 0.7820\n",
      "Epoch 21/100\n",
      "176/176 [==============================] - 0s 3ms/step - loss: 0.5611 - accuracy: 0.7810\n",
      "Epoch 22/100\n",
      "176/176 [==============================] - 1s 3ms/step - loss: 0.6135 - accuracy: 0.7755\n",
      "Epoch 23/100\n",
      "176/176 [==============================] - 0s 3ms/step - loss: 0.5069 - accuracy: 0.7842\n",
      "Epoch 24/100\n",
      "176/176 [==============================] - 0s 3ms/step - loss: 0.6640 - accuracy: 0.7712\n",
      "Epoch 25/100\n",
      "176/176 [==============================] - 1s 3ms/step - loss: 0.5266 - accuracy: 0.7806\n",
      "Epoch 26/100\n",
      "176/176 [==============================] - 1s 3ms/step - loss: 0.5346 - accuracy: 0.7810\n",
      "Epoch 27/100\n",
      "176/176 [==============================] - 0s 3ms/step - loss: 0.5549 - accuracy: 0.7792\n",
      "Epoch 28/100\n",
      "176/176 [==============================] - 0s 3ms/step - loss: 0.7033 - accuracy: 0.7739\n",
      "Epoch 29/100\n",
      "176/176 [==============================] - 0s 3ms/step - loss: 0.6023 - accuracy: 0.7785\n",
      "Epoch 30/100\n",
      "176/176 [==============================] - 1s 3ms/step - loss: 0.6139 - accuracy: 0.7797\n",
      "Epoch 31/100\n",
      "176/176 [==============================] - 1s 4ms/step - loss: 0.6163 - accuracy: 0.7764\n",
      "Epoch 32/100\n",
      "176/176 [==============================] - 1s 4ms/step - loss: 0.5580 - accuracy: 0.7813\n",
      "Epoch 33/100\n",
      "176/176 [==============================] - 1s 3ms/step - loss: 0.5233 - accuracy: 0.7852\n",
      "Epoch 34/100\n",
      "176/176 [==============================] - 0s 3ms/step - loss: 0.5243 - accuracy: 0.7884\n",
      "Epoch 35/100\n",
      "176/176 [==============================] - 1s 3ms/step - loss: 0.5530 - accuracy: 0.7847\n",
      "Epoch 36/100\n",
      "176/176 [==============================] - 1s 3ms/step - loss: 0.4954 - accuracy: 0.7892\n",
      "Epoch 37/100\n",
      "176/176 [==============================] - 1s 3ms/step - loss: 0.4808 - accuracy: 0.7851\n",
      "Epoch 38/100\n",
      "176/176 [==============================] - 1s 3ms/step - loss: 0.5338 - accuracy: 0.7790\n",
      "Epoch 39/100\n",
      "176/176 [==============================] - 0s 3ms/step - loss: 0.4980 - accuracy: 0.7851\n",
      "Epoch 40/100\n",
      "176/176 [==============================] - 0s 3ms/step - loss: 0.5669 - accuracy: 0.7756\n",
      "Epoch 41/100\n",
      "176/176 [==============================] - 0s 3ms/step - loss: 0.5721 - accuracy: 0.7778\n",
      "Epoch 42/100\n",
      "176/176 [==============================] - 1s 4ms/step - loss: 0.5366 - accuracy: 0.7828\n",
      "Epoch 43/100\n",
      "176/176 [==============================] - 1s 4ms/step - loss: 0.6449 - accuracy: 0.7719\n",
      "Epoch 44/100\n",
      "176/176 [==============================] - 0s 3ms/step - loss: 0.5555 - accuracy: 0.7803\n",
      "Epoch 45/100\n",
      "176/176 [==============================] - 1s 4ms/step - loss: 0.5150 - accuracy: 0.7881\n",
      "Epoch 46/100\n",
      "176/176 [==============================] - 1s 5ms/step - loss: 0.7109 - accuracy: 0.7744\n",
      "Epoch 47/100\n",
      "176/176 [==============================] - 1s 3ms/step - loss: 0.4904 - accuracy: 0.7893\n",
      "Epoch 48/100\n",
      "176/176 [==============================] - 1s 3ms/step - loss: 0.5392 - accuracy: 0.7872\n",
      "Epoch 49/100\n",
      "176/176 [==============================] - 0s 3ms/step - loss: 0.4863 - accuracy: 0.7886\n",
      "Epoch 50/100\n",
      "176/176 [==============================] - 1s 3ms/step - loss: 0.4936 - accuracy: 0.7826\n",
      "Epoch 51/100\n",
      "176/176 [==============================] - 1s 3ms/step - loss: 0.4904 - accuracy: 0.7883\n",
      "Epoch 52/100\n",
      "176/176 [==============================] - 1s 3ms/step - loss: 0.4903 - accuracy: 0.7900\n",
      "Epoch 53/100\n",
      "176/176 [==============================] - 1s 3ms/step - loss: 0.4871 - accuracy: 0.7932\n",
      "Epoch 54/100\n",
      "176/176 [==============================] - 1s 3ms/step - loss: 0.4857 - accuracy: 0.7932\n",
      "Epoch 55/100\n",
      "176/176 [==============================] - 1s 4ms/step - loss: 0.4790 - accuracy: 0.7845\n",
      "Epoch 56/100\n",
      "176/176 [==============================] - 1s 4ms/step - loss: 0.6269 - accuracy: 0.7737\n",
      "Epoch 57/100\n",
      "176/176 [==============================] - 0s 3ms/step - loss: 0.5798 - accuracy: 0.7808\n",
      "Epoch 58/100\n",
      "176/176 [==============================] - 1s 3ms/step - loss: 0.5435 - accuracy: 0.7911\n",
      "Epoch 59/100\n",
      "176/176 [==============================] - 1s 3ms/step - loss: 0.5692 - accuracy: 0.7787\n",
      "Epoch 60/100\n",
      "176/176 [==============================] - 1s 3ms/step - loss: 0.6251 - accuracy: 0.7817\n",
      "Epoch 61/100\n",
      "176/176 [==============================] - 1s 3ms/step - loss: 0.5595 - accuracy: 0.7826\n",
      "Epoch 62/100\n",
      "176/176 [==============================] - 0s 3ms/step - loss: 0.5449 - accuracy: 0.7780\n",
      "Epoch 63/100\n",
      "176/176 [==============================] - 1s 3ms/step - loss: 0.5722 - accuracy: 0.7730\n",
      "Epoch 64/100\n",
      "176/176 [==============================] - 0s 3ms/step - loss: 0.6852 - accuracy: 0.7797\n",
      "Epoch 65/100\n",
      "176/176 [==============================] - 1s 5ms/step - loss: 0.5195 - accuracy: 0.7833\n",
      "Epoch 66/100\n",
      "176/176 [==============================] - 1s 4ms/step - loss: 0.4997 - accuracy: 0.7863\n",
      "Epoch 67/100\n",
      "176/176 [==============================] - 1s 3ms/step - loss: 0.5529 - accuracy: 0.7806\n",
      "Epoch 68/100\n",
      "176/176 [==============================] - 1s 3ms/step - loss: 0.5314 - accuracy: 0.7806\n",
      "Epoch 69/100\n",
      "176/176 [==============================] - 1s 3ms/step - loss: 0.4910 - accuracy: 0.7874\n",
      "Epoch 70/100\n",
      "176/176 [==============================] - 1s 5ms/step - loss: 0.6589 - accuracy: 0.7705\n",
      "Epoch 71/100\n",
      "176/176 [==============================] - 0s 3ms/step - loss: 0.5209 - accuracy: 0.7867\n",
      "Epoch 72/100\n",
      "176/176 [==============================] - 1s 3ms/step - loss: 0.5284 - accuracy: 0.7892\n",
      "Epoch 73/100\n",
      "176/176 [==============================] - 1s 4ms/step - loss: 0.5189 - accuracy: 0.7938\n",
      "Epoch 74/100\n",
      "176/176 [==============================] - 1s 3ms/step - loss: 0.6889 - accuracy: 0.7684\n",
      "Epoch 75/100\n",
      "176/176 [==============================] - 1s 3ms/step - loss: 0.5108 - accuracy: 0.7836\n",
      "Epoch 76/100\n",
      "176/176 [==============================] - 1s 3ms/step - loss: 0.5171 - accuracy: 0.7897\n",
      "Epoch 77/100\n",
      "176/176 [==============================] - 0s 3ms/step - loss: 0.5054 - accuracy: 0.7877\n",
      "Epoch 78/100\n",
      "176/176 [==============================] - 0s 3ms/step - loss: 0.5451 - accuracy: 0.7803\n",
      "Epoch 79/100\n",
      "176/176 [==============================] - 1s 3ms/step - loss: 0.5025 - accuracy: 0.7900\n",
      "Epoch 80/100\n",
      "176/176 [==============================] - 1s 3ms/step - loss: 0.6233 - accuracy: 0.7826\n",
      "Epoch 81/100\n",
      "176/176 [==============================] - 1s 3ms/step - loss: 0.5576 - accuracy: 0.7774\n",
      "Epoch 82/100\n",
      "176/176 [==============================] - 1s 3ms/step - loss: 0.4910 - accuracy: 0.7874\n",
      "Epoch 83/100\n",
      "176/176 [==============================] - 1s 3ms/step - loss: 0.6090 - accuracy: 0.7756\n",
      "Epoch 84/100\n",
      "176/176 [==============================] - 0s 3ms/step - loss: 0.5484 - accuracy: 0.7781\n",
      "Epoch 85/100\n",
      "176/176 [==============================] - 1s 3ms/step - loss: 0.4644 - accuracy: 0.7954\n",
      "Epoch 86/100\n",
      "176/176 [==============================] - 1s 4ms/step - loss: 0.6744 - accuracy: 0.7737\n",
      "Epoch 87/100\n",
      "176/176 [==============================] - 0s 3ms/step - loss: 0.5164 - accuracy: 0.7867\n",
      "Epoch 88/100\n",
      "176/176 [==============================] - 1s 4ms/step - loss: 0.5484 - accuracy: 0.7819\n",
      "Epoch 89/100\n",
      "176/176 [==============================] - 1s 4ms/step - loss: 0.5434 - accuracy: 0.7836\n",
      "Epoch 90/100\n",
      "176/176 [==============================] - 1s 3ms/step - loss: 0.5049 - accuracy: 0.7881\n",
      "Epoch 91/100\n",
      "176/176 [==============================] - 1s 3ms/step - loss: 0.5585 - accuracy: 0.7838\n",
      "Epoch 92/100\n",
      "176/176 [==============================] - 1s 3ms/step - loss: 0.7041 - accuracy: 0.7692\n",
      "Epoch 93/100\n",
      "176/176 [==============================] - 1s 4ms/step - loss: 0.5633 - accuracy: 0.7824\n",
      "Epoch 94/100\n",
      "176/176 [==============================] - 1s 3ms/step - loss: 0.5366 - accuracy: 0.7890\n",
      "Epoch 95/100\n",
      "176/176 [==============================] - 0s 3ms/step - loss: 0.6013 - accuracy: 0.7790\n",
      "Epoch 96/100\n",
      "176/176 [==============================] - 0s 3ms/step - loss: 0.5068 - accuracy: 0.7897\n",
      "Epoch 97/100\n",
      "176/176 [==============================] - 0s 3ms/step - loss: 0.6372 - accuracy: 0.7794\n",
      "Epoch 98/100\n",
      "176/176 [==============================] - 1s 3ms/step - loss: 0.5850 - accuracy: 0.7796\n",
      "Epoch 99/100\n",
      "176/176 [==============================] - 0s 3ms/step - loss: 0.5864 - accuracy: 0.7758\n",
      "Epoch 100/100\n",
      "176/176 [==============================] - 1s 5ms/step - loss: 0.5265 - accuracy: 0.7838\n"
     ]
    },
    {
     "data": {
      "text/plain": [
       "<keras.callbacks.History at 0x1f2a5bd5bb0>"
      ]
     },
     "execution_count": 114,
     "metadata": {},
     "output_type": "execute_result"
    }
   ],
   "source": [
    "model=keras.Sequential([\n",
    "    keras.layers.Dense(20,input_shape=(26,),activation='relu'),\n",
    "    keras.layers.Dense(1,activation='sigmoid')\n",
    "])\n",
    "\n",
    "model.compile(\n",
    "    optimizer=\"adam\",\n",
    "    loss=\"binary_crossentropy\",\n",
    "    metrics=['accuracy']\n",
    ")\n",
    "\n",
    "model.fit(X_train,Y_train,epochs=100)"
   ]
  },
  {
   "cell_type": "code",
   "execution_count": 115,
   "metadata": {},
   "outputs": [
    {
     "name": "stdout",
     "output_type": "stream",
     "text": [
      "44/44 [==============================] - 0s 3ms/step - loss: 0.4669 - accuracy: 0.7683\n"
     ]
    },
    {
     "data": {
      "text/plain": [
       "[0.466943621635437, 0.7683013677597046]"
      ]
     },
     "execution_count": 115,
     "metadata": {},
     "output_type": "execute_result"
    }
   ],
   "source": [
    "model.evaluate(X_test,Y_test)"
   ]
  },
  {
   "cell_type": "code",
   "execution_count": 117,
   "metadata": {},
   "outputs": [
    {
     "name": "stdout",
     "output_type": "stream",
     "text": [
      " 1/44 [..............................] - ETA: 2s"
     ]
    },
    {
     "name": "stdout",
     "output_type": "stream",
     "text": [
      "44/44 [==============================] - 0s 9ms/step\n"
     ]
    },
    {
     "data": {
      "text/plain": [
       "array([[0.16333966],\n",
       "       [0.35206223],\n",
       "       [0.04391459],\n",
       "       [0.787344  ],\n",
       "       [0.67066723]], dtype=float32)"
      ]
     },
     "execution_count": 117,
     "metadata": {},
     "output_type": "execute_result"
    }
   ],
   "source": [
    "yp=model.predict(X_test)\n",
    "yp[:5]"
   ]
  },
  {
   "cell_type": "code",
   "execution_count": 119,
   "metadata": {},
   "outputs": [],
   "source": [
    "y_pred=[]\n",
    "\n",
    "for element in yp:\n",
    "    if element>0.5:\n",
    "        y_pred.append(1)\n",
    "    else:\n",
    "        y_pred.append(0)"
   ]
  },
  {
   "cell_type": "code",
   "execution_count": 120,
   "metadata": {},
   "outputs": [],
   "source": [
    "from sklearn.metrics import classification_report, confusion_matrix"
   ]
  },
  {
   "cell_type": "code",
   "execution_count": 122,
   "metadata": {},
   "outputs": [
    {
     "name": "stdout",
     "output_type": "stream",
     "text": [
      "              precision    recall  f1-score   support\n",
      "\n",
      "           0       0.85      0.82      0.83       999\n",
      "           1       0.59      0.64      0.61       408\n",
      "\n",
      "    accuracy                           0.77      1407\n",
      "   macro avg       0.72      0.73      0.72      1407\n",
      "weighted avg       0.77      0.77      0.77      1407\n",
      "\n"
     ]
    }
   ],
   "source": [
    "print(classification_report(Y_test,y_pred))"
   ]
  },
  {
   "cell_type": "code",
   "execution_count": null,
   "metadata": {},
   "outputs": [],
   "source": []
  }
 ],
 "metadata": {
  "kernelspec": {
   "display_name": "primary",
   "language": "python",
   "name": "python3"
  },
  "language_info": {
   "codemirror_mode": {
    "name": "ipython",
    "version": 3
   },
   "file_extension": ".py",
   "mimetype": "text/x-python",
   "name": "python",
   "nbconvert_exporter": "python",
   "pygments_lexer": "ipython3",
   "version": "3.9.16"
  },
  "orig_nbformat": 4
 },
 "nbformat": 4,
 "nbformat_minor": 2
}
